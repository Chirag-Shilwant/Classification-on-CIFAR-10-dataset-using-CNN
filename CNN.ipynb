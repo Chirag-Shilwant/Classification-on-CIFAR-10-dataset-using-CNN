{
  "nbformat": 4,
  "nbformat_minor": 0,
  "metadata": {
    "colab": {
      "name": "q1_A3.ipynb",
      "provenance": [],
      "collapsed_sections": [
        "B3ckkIunnKSD",
        "5n-s0JxB6kPe",
        "lFUN8Ds26WpH",
        "vLojx-6x68W7",
        "KKG6wC0Wy-qB",
        "NAGIoRmjDg7b",
        "WY3llNBA0BSJ"
      ],
      "toc_visible": true
    },
    "kernelspec": {
      "name": "python3",
      "display_name": "Python 3"
    },
    "language_info": {
      "name": "python"
    }
  },
  "cells": [
    {
      "cell_type": "code",
      "metadata": {
        "id": "4mMehXMCQB20"
      },
      "source": [
        "import numpy as np\n",
        "from keras.datasets import cifar10\n",
        "from keras.utils.np_utils import to_categorical\n",
        "import matplotlib.pyplot as plt\n",
        "import tensorflow as tf\n",
        "from tensorflow.keras import layers, models\n",
        "import keras as ks"
      ],
      "execution_count": 44,
      "outputs": []
    },
    {
      "cell_type": "markdown",
      "metadata": {
        "id": "B3ckkIunnKSD"
      },
      "source": [
        "# **Loading and Splitting the Dataset**"
      ]
    },
    {
      "cell_type": "code",
      "metadata": {
        "id": "mejmC4fVRLk5"
      },
      "source": [
        "(X_train, Y_train), (X_test, Y_test) = cifar10.load_data()"
      ],
      "execution_count": 45,
      "outputs": []
    },
    {
      "cell_type": "code",
      "metadata": {
        "colab": {
          "base_uri": "https://localhost:8080/"
        },
        "id": "1W6txn5_RL78",
        "outputId": "2b1f0475-56b1-429f-fb62-a60be36e08cf"
      },
      "source": [
        "print(\"Shape of training data:\")\n",
        "print(X_train.shape)\n",
        "print(Y_train.shape)\n",
        "print(\"Shape of test data:\")\n",
        "print(X_test.shape)\n",
        "print(Y_test.shape)"
      ],
      "execution_count": 46,
      "outputs": [
        {
          "output_type": "stream",
          "text": [
            "Shape of training data:\n",
            "(50000, 32, 32, 3)\n",
            "(50000, 1)\n",
            "Shape of test data:\n",
            "(10000, 32, 32, 3)\n",
            "(10000, 1)\n"
          ],
          "name": "stdout"
        }
      ]
    },
    {
      "cell_type": "code",
      "metadata": {
        "colab": {
          "base_uri": "https://localhost:8080/"
        },
        "id": "fgcQ9fAjRWMT",
        "outputId": "ab4f0b3a-7523-4fd4-9d07-7254a1adc4f2"
      },
      "source": [
        "XTotal = np.concatenate([X_train, X_test], axis=0)\n",
        "YTotal = np.concatenate([Y_train, Y_test], axis=0)\n",
        "print(XTotal.shape, YTotal.shape)"
      ],
      "execution_count": 47,
      "outputs": [
        {
          "output_type": "stream",
          "text": [
            "(60000, 32, 32, 3) (60000, 1)\n"
          ],
          "name": "stdout"
        }
      ]
    },
    {
      "cell_type": "code",
      "metadata": {
        "colab": {
          "base_uri": "https://localhost:8080/"
        },
        "id": "KT0ujKmPT0jH",
        "outputId": "dd5b9e61-95a9-4be1-df9c-f9f6bd22fa3d"
      },
      "source": [
        "# Normalizing\n",
        "XTotal = XTotal.astype('float32')\n",
        "XTotal /= 255 \n",
        "\n",
        "YTotal = YTotal.reshape(-1, )\n",
        "print(XTotal.shape, YTotal.shape)"
      ],
      "execution_count": 48,
      "outputs": [
        {
          "output_type": "stream",
          "text": [
            "(60000, 32, 32, 3) (60000,)\n"
          ],
          "name": "stdout"
        }
      ]
    },
    {
      "cell_type": "code",
      "metadata": {
        "id": "1EJJwc3FhMJe"
      },
      "source": [
        "classes = [\"airplane\",\"automobile\",\"bird\",\"cat\",\"deer\",\"dog\",\"frog\",\"horse\",\"ship\",\"truck\"]\n",
        "def plot_sample(X, y, index):\n",
        "    plt.figure(figsize = (25,2))\n",
        "    plt.imshow(X[index])\n",
        "    plt.xlabel(classes[y[index]])"
      ],
      "execution_count": 49,
      "outputs": []
    },
    {
      "cell_type": "code",
      "metadata": {
        "colab": {
          "base_uri": "https://localhost:8080/",
          "height": 173
        },
        "id": "_E_dVW7udTZU",
        "outputId": "b4d0234b-6085-420d-af24-3172bf14b2d1"
      },
      "source": [
        " plot_sample(XTotal, YTotal, 5)"
      ],
      "execution_count": 50,
      "outputs": [
        {
          "output_type": "display_data",
          "data": {
            "image/png": "[encoded data removed]",
            "text/plain": [
              "<Figure size 1800x144 with 1 Axes>"
            ]
          },
          "metadata": {
            "tags": [],
            "needs_background": "light"
          }
        }
      ]
    },
    {
      "cell_type": "code",
      "metadata": {
        "colab": {
          "base_uri": "https://localhost:8080/"
        },
        "id": "8HoFVRt1SAMU",
        "outputId": "053170b6-2b09-4593-e763-07d2a72de49b"
      },
      "source": [
        "from sklearn.model_selection import train_test_split\n",
        "X_train, X_test, Y_train, Y_test = train_test_split(XTotal, YTotal, test_size=0.30, random_state=49)\n",
        "print(X_train.shape, Y_train.shape, X_test.shape, Y_test.shape)"
      ],
      "execution_count": 51,
      "outputs": [
        {
          "output_type": "stream",
          "text": [
            "(42000, 32, 32, 3) (42000,) (18000, 32, 32, 3) (18000,)\n"
          ],
          "name": "stdout"
        }
      ]
    },
    {
      "cell_type": "code",
      "metadata": {
        "id": "E9oksjlrPm_V"
      },
      "source": [
        "def plot(history):  \n",
        "    plt.plot(history.history['accuracy'])\n",
        "    plt.plot(history.history['val_accuracy'])\n",
        "    plt.title('model loss')\n",
        "    plt.ylabel('accuracy')\n",
        "    plt.xlabel('epoch')\n",
        "    plt.legend(['train', 'test'], loc='upper left')\n",
        "    plt.show()"
      ],
      "execution_count": 52,
      "outputs": []
    },
    {
      "cell_type": "markdown",
      "metadata": {
        "id": "5n-s0JxB6kPe"
      },
      "source": [
        "# **No BatchNormalization**"
      ]
    },
    {
      "cell_type": "code",
      "metadata": {
        "id": "VprfVVF33p_f"
      },
      "source": [
        "cnn = models.Sequential([\n",
        "    layers.ZeroPadding2D(1),\n",
        "    layers.Conv2D(filters=64, kernel_size=(3, 3), padding='valid', activation='relu', input_shape=(32, 32, 3)),\n",
        "    layers.MaxPooling2D((2, 2)),\n",
        "    layers.Dropout(0.25),\n",
        "    layers.Flatten(),\n",
        "    layers.Dense(10, activation='softmax')\n",
        "])"
      ],
      "execution_count": null,
      "outputs": []
    },
    {
      "cell_type": "code",
      "metadata": {
        "id": "Wew3EFFz3pmU"
      },
      "source": [
        "opt = ks.optimizers.SGD(learning_rate=0.01)\n",
        "cnn.compile(optimizer = opt,\n",
        "              loss='sparse_categorical_crossentropy',\n",
        "              metrics=['accuracy'])"
      ],
      "execution_count": null,
      "outputs": []
    },
    {
      "cell_type": "code",
      "metadata": {
        "colab": {
          "base_uri": "https://localhost:8080/"
        },
        "id": "XfaAPPxxPbxO",
        "outputId": "949e05cc-3119-4f9b-9fe1-bd451a8f1dc5"
      },
      "source": [
        "history1 = cnn.fit(X_train, Y_train, epochs=20, batch_size=32, verbose=2, validation_split=0.2)"
      ],
      "execution_count": null,
      "outputs": [
        {
          "output_type": "stream",
          "text": [
            "Epoch 1/20\n",
            "1050/1050 - 43s - loss: 1.9513 - accuracy: 0.3089 - val_loss: 1.7884 - val_accuracy: 0.3769\n",
            "Epoch 2/20\n",
            "1050/1050 - 42s - loss: 1.6993 - accuracy: 0.4122 - val_loss: 1.6024 - val_accuracy: 0.4577\n",
            "Epoch 3/20\n",
            "1050/1050 - 41s - loss: 1.5510 - accuracy: 0.4621 - val_loss: 1.5165 - val_accuracy: 0.4694\n",
            "Epoch 4/20\n",
            "1050/1050 - 42s - loss: 1.4466 - accuracy: 0.4934 - val_loss: 1.4015 - val_accuracy: 0.5124\n",
            "Epoch 5/20\n",
            "1050/1050 - 45s - loss: 1.3755 - accuracy: 0.5199 - val_loss: 1.3493 - val_accuracy: 0.5282\n",
            "Epoch 6/20\n",
            "1050/1050 - 45s - loss: 1.3229 - accuracy: 0.5407 - val_loss: 1.3304 - val_accuracy: 0.5380\n",
            "Epoch 7/20\n",
            "1050/1050 - 47s - loss: 1.2889 - accuracy: 0.5511 - val_loss: 1.3036 - val_accuracy: 0.5442\n",
            "Epoch 8/20\n",
            "1050/1050 - 48s - loss: 1.2581 - accuracy: 0.5634 - val_loss: 1.3110 - val_accuracy: 0.5423\n",
            "Epoch 9/20\n",
            "1050/1050 - 48s - loss: 1.2339 - accuracy: 0.5732 - val_loss: 1.2805 - val_accuracy: 0.5460\n",
            "Epoch 10/20\n",
            "1050/1050 - 46s - loss: 1.2129 - accuracy: 0.5782 - val_loss: 1.2578 - val_accuracy: 0.5556\n",
            "Epoch 11/20\n",
            "1050/1050 - 47s - loss: 1.1937 - accuracy: 0.5845 - val_loss: 1.2329 - val_accuracy: 0.5676\n",
            "Epoch 12/20\n",
            "1050/1050 - 44s - loss: 1.1774 - accuracy: 0.5906 - val_loss: 1.2148 - val_accuracy: 0.5783\n",
            "Epoch 13/20\n",
            "1050/1050 - 45s - loss: 1.1551 - accuracy: 0.5985 - val_loss: 1.2084 - val_accuracy: 0.5783\n",
            "Epoch 14/20\n",
            "1050/1050 - 45s - loss: 1.1428 - accuracy: 0.6033 - val_loss: 1.2197 - val_accuracy: 0.5737\n",
            "Epoch 15/20\n",
            "1050/1050 - 45s - loss: 1.1211 - accuracy: 0.6124 - val_loss: 1.2002 - val_accuracy: 0.5826\n",
            "Epoch 16/20\n",
            "1050/1050 - 44s - loss: 1.1047 - accuracy: 0.6170 - val_loss: 1.1971 - val_accuracy: 0.5781\n",
            "Epoch 17/20\n",
            "1050/1050 - 45s - loss: 1.0913 - accuracy: 0.6209 - val_loss: 1.1522 - val_accuracy: 0.6021\n",
            "Epoch 18/20\n",
            "1050/1050 - 46s - loss: 1.0720 - accuracy: 0.6286 - val_loss: 1.1645 - val_accuracy: 0.5912\n",
            "Epoch 19/20\n",
            "1050/1050 - 45s - loss: 1.0589 - accuracy: 0.6324 - val_loss: 1.1465 - val_accuracy: 0.6013\n",
            "Epoch 20/20\n",
            "1050/1050 - 46s - loss: 1.0414 - accuracy: 0.6434 - val_loss: 1.1357 - val_accuracy: 0.6044\n"
          ],
          "name": "stdout"
        }
      ]
    },
    {
      "cell_type": "code",
      "metadata": {
        "colab": {
          "base_uri": "https://localhost:8080/"
        },
        "id": "EHkofaJX31gy",
        "outputId": "882b7484-7d7a-4396-a989-00001033a6cf"
      },
      "source": [
        "cnn.evaluate(X_test,Y_test)"
      ],
      "execution_count": null,
      "outputs": [
        {
          "output_type": "stream",
          "text": [
            "563/563 [==============================] - 5s 9ms/step - loss: 1.1256 - accuracy: 0.6117\n"
          ],
          "name": "stdout"
        },
        {
          "output_type": "execute_result",
          "data": {
            "text/plain": [
              "[1.1256446838378906, 0.6117222309112549]"
            ]
          },
          "metadata": {
            "tags": []
          },
          "execution_count": 123
        }
      ]
    },
    {
      "cell_type": "code",
      "metadata": {
        "colab": {
          "base_uri": "https://localhost:8080/"
        },
        "id": "qLdXK_mDQAA7",
        "outputId": "6899dd4b-45a8-49ef-9923-a6dff924d951"
      },
      "source": [
        "cnn.summary()"
      ],
      "execution_count": null,
      "outputs": [
        {
          "output_type": "stream",
          "text": [
            "Model: \"sequential_1\"\n",
            "_________________________________________________________________\n",
            "Layer (type)                 Output Shape              Param #   \n",
            "=================================================================\n",
            "zero_padding2d_1 (ZeroPaddin (None, 34, 34, 3)         0         \n",
            "_________________________________________________________________\n",
            "conv2d_1 (Conv2D)            (None, 32, 32, 64)        1792      \n",
            "_________________________________________________________________\n",
            "max_pooling2d_1 (MaxPooling2 (None, 16, 16, 64)        0         \n",
            "_________________________________________________________________\n",
            "dropout_1 (Dropout)          (None, 16, 16, 64)        0         \n",
            "_________________________________________________________________\n",
            "flatten_1 (Flatten)          (None, 16384)             0         \n",
            "_________________________________________________________________\n",
            "dense_1 (Dense)              (None, 10)                163850    \n",
            "=================================================================\n",
            "Total params: 165,642\n",
            "Trainable params: 165,642\n",
            "Non-trainable params: 0\n",
            "_________________________________________________________________\n"
          ],
          "name": "stdout"
        }
      ]
    },
    {
      "cell_type": "code",
      "metadata": {
        "colab": {
          "base_uri": "https://localhost:8080/",
          "height": 295
        },
        "id": "2kSdtF0s1bmd",
        "outputId": "ad2569b5-621e-4440-c6b4-8428d030e61b"
      },
      "source": [
        "plot(history1)"
      ],
      "execution_count": null,
      "outputs": [
        {
          "output_type": "display_data",
          "data": {
            "image/png": "[encoded data removed]",
            "text/plain": [
              "<Figure size 432x288 with 1 Axes>"
            ]
          },
          "metadata": {
            "tags": []
          }
        }
      ]
    },
    {
      "cell_type": "markdown",
      "metadata": {
        "id": "lFUN8Ds26WpH"
      },
      "source": [
        "#**Two Dense Layers**"
      ]
    },
    {
      "cell_type": "code",
      "metadata": {
        "id": "AUy3Z9NHloFp"
      },
      "source": [
        "cnn = models.Sequential([\n",
        "    layers.Conv2D(filters=64, kernel_size=(3, 3), padding='valid', activation='relu', input_shape=(32, 32, 3)),\n",
        "    layers.MaxPooling2D((2, 2)),\n",
        "    layers.Dropout(0.25),\n",
        "    layers.Conv2D(filters=64, kernel_size=(3, 3), padding='valid', activation='relu'),\n",
        "    layers.MaxPooling2D((2, 2)),\n",
        "    \n",
        "    layers.Flatten(),\n",
        "    layers.Dense(64, activation='relu'),\n",
        "    layers.Dropout(0.25),\n",
        "    layers.Dense(10, activation='softmax')\n",
        "])"
      ],
      "execution_count": null,
      "outputs": []
    },
    {
      "cell_type": "code",
      "metadata": {
        "id": "2sNiRq4ilpEB"
      },
      "source": [
        "opt = ks.optimizers.SGD(learning_rate=0.01)\n",
        "cnn.compile(optimizer = opt,\n",
        "              loss='sparse_categorical_crossentropy',\n",
        "              metrics=['accuracy'])"
      ],
      "execution_count": null,
      "outputs": []
    },
    {
      "cell_type": "code",
      "metadata": {
        "colab": {
          "base_uri": "https://localhost:8080/"
        },
        "id": "b3pRUgAdP5mQ",
        "outputId": "5de7a9df-2363-41f9-c408-f7e711dcb538"
      },
      "source": [
        "history2 = cnn.fit(X_train, Y_train, epochs=20, batch_size=32, verbose=2, validation_split=0.2)"
      ],
      "execution_count": null,
      "outputs": [
        {
          "output_type": "stream",
          "text": [
            "Epoch 1/20\n",
            "1050/1050 - 77s - loss: 2.1424 - accuracy: 0.2056 - val_loss: 1.9925 - val_accuracy: 0.2851\n",
            "Epoch 2/20\n",
            "1050/1050 - 73s - loss: 1.9184 - accuracy: 0.3073 - val_loss: 1.8213 - val_accuracy: 0.3508\n",
            "Epoch 3/20\n",
            "1050/1050 - 73s - loss: 1.7485 - accuracy: 0.3701 - val_loss: 1.6388 - val_accuracy: 0.4130\n",
            "Epoch 4/20\n",
            "1050/1050 - 73s - loss: 1.6308 - accuracy: 0.4154 - val_loss: 1.5307 - val_accuracy: 0.4568\n",
            "Epoch 5/20\n",
            "1050/1050 - 73s - loss: 1.5423 - accuracy: 0.4465 - val_loss: 1.4416 - val_accuracy: 0.4843\n",
            "Epoch 6/20\n",
            "1050/1050 - 74s - loss: 1.4729 - accuracy: 0.4687 - val_loss: 1.4721 - val_accuracy: 0.4820\n",
            "Epoch 7/20\n",
            "1050/1050 - 74s - loss: 1.4204 - accuracy: 0.4880 - val_loss: 1.3477 - val_accuracy: 0.5235\n",
            "Epoch 8/20\n",
            "1050/1050 - 73s - loss: 1.3800 - accuracy: 0.5066 - val_loss: 1.3107 - val_accuracy: 0.5374\n",
            "Epoch 9/20\n",
            "1050/1050 - 74s - loss: 1.3391 - accuracy: 0.5216 - val_loss: 1.2770 - val_accuracy: 0.5490\n",
            "Epoch 10/20\n",
            "1050/1050 - 75s - loss: 1.3017 - accuracy: 0.5362 - val_loss: 1.2296 - val_accuracy: 0.5679\n",
            "Epoch 11/20\n",
            "1050/1050 - 73s - loss: 1.2730 - accuracy: 0.5462 - val_loss: 1.2105 - val_accuracy: 0.5742\n",
            "Epoch 12/20\n",
            "1050/1050 - 75s - loss: 1.2359 - accuracy: 0.5588 - val_loss: 1.1645 - val_accuracy: 0.5933\n",
            "Epoch 13/20\n",
            "1050/1050 - 73s - loss: 1.2061 - accuracy: 0.5688 - val_loss: 1.1467 - val_accuracy: 0.5983\n",
            "Epoch 14/20\n",
            "1050/1050 - 73s - loss: 1.1738 - accuracy: 0.5829 - val_loss: 1.1467 - val_accuracy: 0.5936\n",
            "Epoch 15/20\n",
            "1050/1050 - 75s - loss: 1.1529 - accuracy: 0.5892 - val_loss: 1.1116 - val_accuracy: 0.6045\n",
            "Epoch 16/20\n",
            "1050/1050 - 78s - loss: 1.1249 - accuracy: 0.5976 - val_loss: 1.1078 - val_accuracy: 0.6111\n",
            "Epoch 17/20\n",
            "1050/1050 - 78s - loss: 1.1006 - accuracy: 0.6078 - val_loss: 1.1158 - val_accuracy: 0.6043\n",
            "Epoch 18/20\n",
            "1050/1050 - 77s - loss: 1.0748 - accuracy: 0.6179 - val_loss: 1.0499 - val_accuracy: 0.6335\n",
            "Epoch 19/20\n",
            "1050/1050 - 77s - loss: 1.0502 - accuracy: 0.6285 - val_loss: 1.0286 - val_accuracy: 0.6405\n",
            "Epoch 20/20\n",
            "1050/1050 - 78s - loss: 1.0352 - accuracy: 0.6325 - val_loss: 1.0322 - val_accuracy: 0.6361\n"
          ],
          "name": "stdout"
        }
      ]
    },
    {
      "cell_type": "code",
      "metadata": {
        "colab": {
          "base_uri": "https://localhost:8080/"
        },
        "id": "WdnWI_zql5_F",
        "outputId": "73089991-f371-4259-f147-fe1652937a2c"
      },
      "source": [
        "cnn.evaluate(X_test,Y_test)"
      ],
      "execution_count": null,
      "outputs": [
        {
          "output_type": "stream",
          "text": [
            "563/563 [==============================] - 10s 18ms/step - loss: 1.0155 - accuracy: 0.6487\n"
          ],
          "name": "stdout"
        },
        {
          "output_type": "execute_result",
          "data": {
            "text/plain": [
              "[1.015474557876587, 0.6486666798591614]"
            ]
          },
          "metadata": {
            "tags": []
          },
          "execution_count": 127
        }
      ]
    },
    {
      "cell_type": "code",
      "metadata": {
        "colab": {
          "base_uri": "https://localhost:8080/"
        },
        "id": "N-JrglrPQECY",
        "outputId": "734e6cec-9a62-4c4b-8568-ce92c5c29d20"
      },
      "source": [
        "cnn.summary()"
      ],
      "execution_count": null,
      "outputs": [
        {
          "output_type": "stream",
          "text": [
            "Model: \"sequential_2\"\n",
            "_________________________________________________________________\n",
            "Layer (type)                 Output Shape              Param #   \n",
            "=================================================================\n",
            "conv2d_2 (Conv2D)            (None, 30, 30, 64)        1792      \n",
            "_________________________________________________________________\n",
            "max_pooling2d_2 (MaxPooling2 (None, 15, 15, 64)        0         \n",
            "_________________________________________________________________\n",
            "dropout_2 (Dropout)          (None, 15, 15, 64)        0         \n",
            "_________________________________________________________________\n",
            "conv2d_3 (Conv2D)            (None, 13, 13, 64)        36928     \n",
            "_________________________________________________________________\n",
            "max_pooling2d_3 (MaxPooling2 (None, 6, 6, 64)          0         \n",
            "_________________________________________________________________\n",
            "flatten_2 (Flatten)          (None, 2304)              0         \n",
            "_________________________________________________________________\n",
            "dense_2 (Dense)              (None, 64)                147520    \n",
            "_________________________________________________________________\n",
            "dropout_3 (Dropout)          (None, 64)                0         \n",
            "_________________________________________________________________\n",
            "dense_3 (Dense)              (None, 10)                650       \n",
            "=================================================================\n",
            "Total params: 186,890\n",
            "Trainable params: 186,890\n",
            "Non-trainable params: 0\n",
            "_________________________________________________________________\n"
          ],
          "name": "stdout"
        }
      ]
    },
    {
      "cell_type": "code",
      "metadata": {
        "colab": {
          "base_uri": "https://localhost:8080/",
          "height": 295
        },
        "id": "WoxE4rRN1fTS",
        "outputId": "47239073-5951-43ce-8ed0-b5e2762b2f5f"
      },
      "source": [
        "plot(history2)"
      ],
      "execution_count": null,
      "outputs": [
        {
          "output_type": "display_data",
          "data": {
            "image/png": "[encoded data removed]",
            "text/plain": [
              "<Figure size 432x288 with 1 Axes>"
            ]
          },
          "metadata": {
            "tags": []
          }
        }
      ]
    },
    {
      "cell_type": "markdown",
      "metadata": {
        "id": "vLojx-6x68W7"
      },
      "source": [
        "# **2 blocks of Conv2D -> BatchNorm2D->MaxPooling2D**"
      ]
    },
    {
      "cell_type": "code",
      "metadata": {
        "id": "F-RFGTcq66sn"
      },
      "source": [
        "cnn = models.Sequential([\n",
        "    layers.Conv2D(filters=64, kernel_size=(3, 3), padding='valid', activation='relu', input_shape=(32, 32, 3)),\n",
        "    layers.BatchNormalization(),\n",
        "    layers.MaxPooling2D((2, 2)),\n",
        "    layers.Dropout(0.25),\n",
        "    layers.Conv2D(filters=64, kernel_size=(3, 3), padding='valid', activation='relu'),\n",
        "    layers.BatchNormalization(),\n",
        "    layers.MaxPooling2D((2, 2)),\n",
        "    layers.Dropout(0.25),\n",
        "    layers.Flatten(),\n",
        "    layers.Dense(64, activation='relu'),\n",
        "    layers.Dropout(0.25),\n",
        "    layers.Dense(10, activation='softmax')\n",
        "])"
      ],
      "execution_count": null,
      "outputs": []
    },
    {
      "cell_type": "code",
      "metadata": {
        "id": "65ucG_Jz-szI"
      },
      "source": [
        "opt = ks.optimizers.SGD(learning_rate=0.01)\n",
        "cnn.compile(optimizer = opt,\n",
        "              loss='sparse_categorical_crossentropy',\n",
        "              metrics=['accuracy'])"
      ],
      "execution_count": null,
      "outputs": []
    },
    {
      "cell_type": "code",
      "metadata": {
        "colab": {
          "base_uri": "https://localhost:8080/"
        },
        "id": "OtaHBvoZQ-x6",
        "outputId": "dc63ae62-f8f9-488c-cfcf-f0c6a229d841"
      },
      "source": [
        "history3 = cnn.fit(X_train, Y_train, epochs=20, batch_size=32, verbose=2, validation_split=0.2)"
      ],
      "execution_count": null,
      "outputs": [
        {
          "output_type": "stream",
          "text": [
            "Epoch 1/20\n",
            "1050/1050 - 98s - loss: 1.8621 - accuracy: 0.3284 - val_loss: 1.5756 - val_accuracy: 0.4362\n",
            "Epoch 2/20\n",
            "1050/1050 - 106s - loss: 1.5519 - accuracy: 0.4408 - val_loss: 1.3945 - val_accuracy: 0.5013\n",
            "Epoch 3/20\n",
            "1050/1050 - 97s - loss: 1.4357 - accuracy: 0.4857 - val_loss: 1.2585 - val_accuracy: 0.5485\n",
            "Epoch 4/20\n",
            "1050/1050 - 101s - loss: 1.3631 - accuracy: 0.5144 - val_loss: 1.2451 - val_accuracy: 0.5598\n",
            "Epoch 5/20\n",
            "1050/1050 - 97s - loss: 1.2942 - accuracy: 0.5383 - val_loss: 1.1848 - val_accuracy: 0.5817\n",
            "Epoch 6/20\n",
            "1050/1050 - 99s - loss: 1.2424 - accuracy: 0.5539 - val_loss: 1.2478 - val_accuracy: 0.5655\n",
            "Epoch 7/20\n",
            "1050/1050 - 99s - loss: 1.1930 - accuracy: 0.5737 - val_loss: 1.0877 - val_accuracy: 0.6144\n",
            "Epoch 8/20\n",
            "1050/1050 - 97s - loss: 1.1554 - accuracy: 0.5860 - val_loss: 1.0526 - val_accuracy: 0.6310\n",
            "Epoch 9/20\n",
            "1050/1050 - 99s - loss: 1.1200 - accuracy: 0.6039 - val_loss: 1.0834 - val_accuracy: 0.6221\n",
            "Epoch 10/20\n",
            "1050/1050 - 95s - loss: 1.0929 - accuracy: 0.6126 - val_loss: 1.0556 - val_accuracy: 0.6219\n",
            "Epoch 11/20\n",
            "1050/1050 - 101s - loss: 1.0613 - accuracy: 0.6218 - val_loss: 1.2674 - val_accuracy: 0.5661\n",
            "Epoch 12/20\n",
            "1050/1050 - 111s - loss: 1.0391 - accuracy: 0.6310 - val_loss: 1.0673 - val_accuracy: 0.6245\n",
            "Epoch 13/20\n",
            "1050/1050 - 101s - loss: 1.0117 - accuracy: 0.6428 - val_loss: 1.0896 - val_accuracy: 0.6295\n",
            "Epoch 14/20\n",
            "1050/1050 - 101s - loss: 0.9958 - accuracy: 0.6448 - val_loss: 1.2133 - val_accuracy: 0.6035\n",
            "Epoch 15/20\n",
            "1050/1050 - 102s - loss: 0.9768 - accuracy: 0.6546 - val_loss: 1.0751 - val_accuracy: 0.6271\n",
            "Epoch 16/20\n",
            "1050/1050 - 103s - loss: 0.9542 - accuracy: 0.6600 - val_loss: 1.1079 - val_accuracy: 0.6215\n",
            "Epoch 17/20\n",
            "1050/1050 - 101s - loss: 0.9377 - accuracy: 0.6687 - val_loss: 1.0143 - val_accuracy: 0.6462\n",
            "Epoch 18/20\n",
            "1050/1050 - 101s - loss: 0.9237 - accuracy: 0.6721 - val_loss: 0.9926 - val_accuracy: 0.6606\n",
            "Epoch 19/20\n",
            "1050/1050 - 102s - loss: 0.9089 - accuracy: 0.6769 - val_loss: 1.0083 - val_accuracy: 0.6580\n",
            "Epoch 20/20\n",
            "1050/1050 - 102s - loss: 0.8933 - accuracy: 0.6859 - val_loss: 0.9243 - val_accuracy: 0.6805\n"
          ],
          "name": "stdout"
        }
      ]
    },
    {
      "cell_type": "code",
      "metadata": {
        "id": "OyPDf_Cr-sWn",
        "colab": {
          "base_uri": "https://localhost:8080/"
        },
        "outputId": "3b1c06ce-7e25-42dd-d62e-9071897e72b4"
      },
      "source": [
        "cnn.evaluate(X_test,Y_test)"
      ],
      "execution_count": null,
      "outputs": [
        {
          "output_type": "stream",
          "text": [
            "563/563 [==============================] - 11s 20ms/step - loss: 0.9178 - accuracy: 0.6873\n"
          ],
          "name": "stdout"
        },
        {
          "output_type": "execute_result",
          "data": {
            "text/plain": [
              "[0.917837917804718, 0.687333345413208]"
            ]
          },
          "metadata": {
            "tags": []
          },
          "execution_count": 131
        }
      ]
    },
    {
      "cell_type": "code",
      "metadata": {
        "colab": {
          "base_uri": "https://localhost:8080/"
        },
        "id": "UjYIRYR3jCfL",
        "outputId": "496c0b0c-c36a-4345-bb9d-873bd050a752"
      },
      "source": [
        "cnn.summary()"
      ],
      "execution_count": null,
      "outputs": [
        {
          "output_type": "stream",
          "text": [
            "Model: \"sequential_5\"\n",
            "_________________________________________________________________\n",
            "Layer (type)                 Output Shape              Param #   \n",
            "=================================================================\n",
            "conv2d_9 (Conv2D)            (None, 30, 30, 64)        1792      \n",
            "_________________________________________________________________\n",
            "batch_normalization_5 (Batch (None, 30, 30, 64)        256       \n",
            "_________________________________________________________________\n",
            "max_pooling2d_9 (MaxPooling2 (None, 15, 15, 64)        0         \n",
            "_________________________________________________________________\n",
            "dropout_9 (Dropout)          (None, 15, 15, 64)        0         \n",
            "_________________________________________________________________\n",
            "conv2d_10 (Conv2D)           (None, 13, 13, 64)        36928     \n",
            "_________________________________________________________________\n",
            "batch_normalization_6 (Batch (None, 13, 13, 64)        256       \n",
            "_________________________________________________________________\n",
            "max_pooling2d_10 (MaxPooling (None, 6, 6, 64)          0         \n",
            "_________________________________________________________________\n",
            "dropout_10 (Dropout)         (None, 6, 6, 64)          0         \n",
            "_________________________________________________________________\n",
            "flatten_5 (Flatten)          (None, 2304)              0         \n",
            "_________________________________________________________________\n",
            "dense_8 (Dense)              (None, 64)                147520    \n",
            "_________________________________________________________________\n",
            "dropout_11 (Dropout)         (None, 64)                0         \n",
            "_________________________________________________________________\n",
            "dense_9 (Dense)              (None, 10)                650       \n",
            "=================================================================\n",
            "Total params: 187,402\n",
            "Trainable params: 187,146\n",
            "Non-trainable params: 256\n",
            "_________________________________________________________________\n"
          ],
          "name": "stdout"
        }
      ]
    },
    {
      "cell_type": "code",
      "metadata": {
        "id": "_gP0Rp9O1iny",
        "colab": {
          "base_uri": "https://localhost:8080/",
          "height": 295
        },
        "outputId": "b85a4890-ab07-4aa8-ced7-2b245984e9c5"
      },
      "source": [
        "plot(history3)"
      ],
      "execution_count": null,
      "outputs": [
        {
          "output_type": "display_data",
          "data": {
            "image/png": "[encoded data removed]",
            "text/plain": [
              "<Figure size 432x288 with 1 Axes>"
            ]
          },
          "metadata": {
            "tags": []
          }
        }
      ]
    },
    {
      "cell_type": "markdown",
      "metadata": {
        "id": "KKG6wC0Wy-qB"
      },
      "source": [
        "# **3 blocks of Conv2D -> BatchNorm2D->MaxPooling2D**"
      ]
    },
    {
      "cell_type": "code",
      "metadata": {
        "id": "WXN-82Nxy-Qr"
      },
      "source": [
        "cnn = models.Sequential([\n",
        "    layers.Conv2D(filters=64, kernel_size=(3, 3), padding='valid', activation='relu', input_shape=(32, 32, 3)),\n",
        "    layers.BatchNormalization(),\n",
        "    layers.MaxPooling2D((2, 2)),\n",
        "\n",
        "    layers.Conv2D(filters=64, kernel_size=(3, 3), padding='valid', activation='relu'),\n",
        "    layers.BatchNormalization(),\n",
        "    layers.MaxPooling2D((2, 2)),\n",
        "    #layers.Dropout(0.25),\n",
        "    \n",
        "    layers.Conv2D(filters=64, kernel_size=(3, 3), padding='valid', activation='relu'),\n",
        "    layers.BatchNormalization(),\n",
        "    layers.MaxPooling2D((2, 2)),\n",
        "    layers.Flatten(),\n",
        "    layers.Dense(64, activation='relu'),\n",
        "    layers.Dropout(0.25),\n",
        "    layers.Dense(10, activation='softmax')\n",
        "])"
      ],
      "execution_count": 53,
      "outputs": []
    },
    {
      "cell_type": "code",
      "metadata": {
        "id": "4psgU0AQy-FP"
      },
      "source": [
        "opt = ks.optimizers.SGD(learning_rate=0.001)\n",
        "cnn.compile(optimizer = opt,\n",
        "              loss='sparse_categorical_crossentropy',\n",
        "              metrics=['accuracy'])"
      ],
      "execution_count": 54,
      "outputs": []
    },
    {
      "cell_type": "code",
      "metadata": {
        "colab": {
          "base_uri": "https://localhost:8080/"
        },
        "id": "f7tSUhpjf5fM",
        "outputId": "a4464abf-5422-4130-bec8-12ded8e44d45"
      },
      "source": [
        "history4 = cnn.fit(X_train, Y_train, epochs=20, batch_size=32, verbose=2, validation_split=0.2)"
      ],
      "execution_count": null,
      "outputs": [
        {
          "output_type": "stream",
          "text": [
            "Epoch 1/20\n",
            "1050/1050 - 107s - loss: 1.5859 - accuracy: 0.4291 - val_loss: 2.0351 - val_accuracy: 0.3623\n",
            "Epoch 2/20\n",
            "1050/1050 - 98s - loss: 1.2597 - accuracy: 0.5512 - val_loss: 1.7102 - val_accuracy: 0.4276\n",
            "Epoch 3/20\n",
            "1050/1050 - 99s - loss: 1.1137 - accuracy: 0.6077 - val_loss: 1.3853 - val_accuracy: 0.5130\n",
            "Epoch 4/20\n",
            "1050/1050 - 100s - loss: 1.0186 - accuracy: 0.6415 - val_loss: 1.1878 - val_accuracy: 0.5949\n",
            "Epoch 5/20\n",
            "1050/1050 - 99s - loss: 0.9395 - accuracy: 0.6716 - val_loss: 1.1613 - val_accuracy: 0.6058\n",
            "Epoch 6/20\n",
            "1050/1050 - 98s - loss: 0.8771 - accuracy: 0.6926 - val_loss: 1.2451 - val_accuracy: 0.5725\n",
            "Epoch 7/20\n",
            "1050/1050 - 98s - loss: 0.8252 - accuracy: 0.7127 - val_loss: 1.1679 - val_accuracy: 0.6043\n",
            "Epoch 8/20\n",
            "1050/1050 - 97s - loss: 0.7821 - accuracy: 0.7245 - val_loss: 1.0155 - val_accuracy: 0.6461\n",
            "Epoch 9/20\n",
            "1050/1050 - 98s - loss: 0.7303 - accuracy: 0.7424 - val_loss: 1.6350 - val_accuracy: 0.5283\n",
            "Epoch 10/20\n",
            "1050/1050 - 99s - loss: 0.6898 - accuracy: 0.7591 - val_loss: 1.0232 - val_accuracy: 0.6605\n",
            "Epoch 11/20\n",
            "1050/1050 - 99s - loss: 0.6509 - accuracy: 0.7723 - val_loss: 1.1641 - val_accuracy: 0.6237\n",
            "Epoch 12/20\n",
            "1050/1050 - 98s - loss: 0.6184 - accuracy: 0.7835 - val_loss: 1.0144 - val_accuracy: 0.6650\n",
            "Epoch 13/20\n",
            "1050/1050 - 98s - loss: 0.5875 - accuracy: 0.7942 - val_loss: 1.1090 - val_accuracy: 0.6463\n",
            "Epoch 14/20\n",
            "1050/1050 - 98s - loss: 0.5481 - accuracy: 0.8100 - val_loss: 1.0123 - val_accuracy: 0.6712\n",
            "Epoch 15/20\n",
            "1050/1050 - 98s - loss: 0.5186 - accuracy: 0.8194 - val_loss: 1.1999 - val_accuracy: 0.6439\n",
            "Epoch 16/20\n",
            "1050/1050 - 98s - loss: 0.4988 - accuracy: 0.8232 - val_loss: 1.1184 - val_accuracy: 0.6555\n",
            "Epoch 17/20\n",
            "1050/1050 - 98s - loss: 0.4669 - accuracy: 0.8341 - val_loss: 1.1128 - val_accuracy: 0.6600\n",
            "Epoch 18/20\n",
            "1050/1050 - 98s - loss: 0.4336 - accuracy: 0.8473 - val_loss: 2.0391 - val_accuracy: 0.5192\n",
            "Epoch 19/20\n",
            "1050/1050 - 98s - loss: 0.4152 - accuracy: 0.8536 - val_loss: 1.1568 - val_accuracy: 0.6648\n",
            "Epoch 20/20\n",
            "1050/1050 - 97s - loss: 0.3945 - accuracy: 0.8621 - val_loss: 1.1417 - val_accuracy: 0.6712\n"
          ],
          "name": "stdout"
        }
      ]
    },
    {
      "cell_type": "code",
      "metadata": {
        "colab": {
          "base_uri": "https://localhost:8080/"
        },
        "id": "zAP0J-qbwELm",
        "outputId": "ef8015bf-1239-4138-e1a0-6796fdb29cd7"
      },
      "source": [
        "cnn.summary()"
      ],
      "execution_count": 57,
      "outputs": [
        {
          "output_type": "stream",
          "text": [
            "Model: \"sequential_4\"\n",
            "_________________________________________________________________\n",
            "Layer (type)                 Output Shape              Param #   \n",
            "=================================================================\n",
            "conv2d_12 (Conv2D)           (None, 30, 30, 64)        1792      \n",
            "_________________________________________________________________\n",
            "batch_normalization_12 (Batc (None, 30, 30, 64)        256       \n",
            "_________________________________________________________________\n",
            "max_pooling2d_12 (MaxPooling (None, 15, 15, 64)        0         \n",
            "_________________________________________________________________\n",
            "conv2d_13 (Conv2D)           (None, 13, 13, 64)        36928     \n",
            "_________________________________________________________________\n",
            "batch_normalization_13 (Batc (None, 13, 13, 64)        256       \n",
            "_________________________________________________________________\n",
            "max_pooling2d_13 (MaxPooling (None, 6, 6, 64)          0         \n",
            "_________________________________________________________________\n",
            "conv2d_14 (Conv2D)           (None, 4, 4, 64)          36928     \n",
            "_________________________________________________________________\n",
            "batch_normalization_14 (Batc (None, 4, 4, 64)          256       \n",
            "_________________________________________________________________\n",
            "max_pooling2d_14 (MaxPooling (None, 2, 2, 64)          0         \n",
            "_________________________________________________________________\n",
            "flatten_4 (Flatten)          (None, 256)               0         \n",
            "_________________________________________________________________\n",
            "dense_8 (Dense)              (None, 64)                16448     \n",
            "_________________________________________________________________\n",
            "dropout_8 (Dropout)          (None, 64)                0         \n",
            "_________________________________________________________________\n",
            "dense_9 (Dense)              (None, 10)                650       \n",
            "=================================================================\n",
            "Total params: 93,514\n",
            "Trainable params: 93,130\n",
            "Non-trainable params: 384\n",
            "_________________________________________________________________\n"
          ],
          "name": "stdout"
        }
      ]
    },
    {
      "cell_type": "code",
      "metadata": {
        "id": "mZYkc-5vJvxm"
      },
      "source": [
        "score = cnn.evaluate(X_test,Y_test,batch_size=128, verbose=0)"
      ],
      "execution_count": null,
      "outputs": []
    },
    {
      "cell_type": "code",
      "metadata": {
        "colab": {
          "base_uri": "https://localhost:8080/"
        },
        "id": "FJny-Y46BEH1",
        "outputId": "b5b3c08b-4567-4d80-855e-db5b4ffcf339"
      },
      "source": [
        "print(cnn.metrics_names)\n",
        "print(score)"
      ],
      "execution_count": null,
      "outputs": [
        {
          "output_type": "stream",
          "text": [
            "['loss', 'accuracy']\n",
            "[1.1551328897476196, 0.7108888983726501]\n"
          ],
          "name": "stdout"
        }
      ]
    },
    {
      "cell_type": "code",
      "metadata": {
        "colab": {
          "base_uri": "https://localhost:8080/",
          "height": 295
        },
        "id": "aFLjsHGkKGlR",
        "outputId": "7ea78fe7-02a8-4800-e01e-3c96c3d0b0f6"
      },
      "source": [
        "plot(history4)"
      ],
      "execution_count": null,
      "outputs": [
        {
          "output_type": "display_data",
          "data": {
            "image/png": "[encoded data removed]",
            "text/plain": [
              "<Figure size 432x288 with 1 Axes>"
            ]
          },
          "metadata": {
            "tags": [],
            "needs_background": "light"
          }
        }
      ]
    },
    {
      "cell_type": "markdown",
      "metadata": {
        "id": "NAGIoRmjDg7b"
      },
      "source": [
        "# **Comparison**"
      ]
    },
    {
      "cell_type": "markdown",
      "metadata": {
        "id": "IhC_zJTZCcvk"
      },
      "source": [
        "**Comparison**\n",
        "\n",
        "*   Accuracy Score with No BatchNormalization is **0.61**\n",
        "*   Accuracy Score with Two Dense Layers is **0.64**\n",
        "*   Accuracy Score with 2 blocks of Conv2D -> BatchNorm2D->MaxPooling2D is **0.68**\n",
        "*   Accuracy Score with 3 blocks of Conv2D -> BatchNorm2D->MaxPooling2D is **0.72**\n"
      ]
    },
    {
      "cell_type": "markdown",
      "metadata": {
        "id": "bxaGV8AyPiXP"
      },
      "source": [
        "**Best Model is 3 blocks of Conv2D -> BatchNorm2D->MaxPooling2D which gave accuracy score of 0.72.**"
      ]
    },
    {
      "cell_type": "code",
      "metadata": {
        "id": "1qqZ2wiOwTbp"
      },
      "source": [
        "import pandas as pd\n",
        "import numpy as np\n",
        "\n",
        "data = {'ModelType': [\"No BatchNormalization\", \"Two Dense Layers\", \"2 blocks of Conv2D -> BatchNorm2D->MaxPooling2D\", \"3 blocks of Conv2D -> BatchNorm2D->MaxPooling2D\"],\n",
        "        'Time in seconds': [\"758 s\", \"903 s\", \"1743 s\", \"2116 s\"],\n",
        "        'Accuracy Score': ['0.61', '0.64', '0.68', '0.72']}\n",
        "\n",
        "df = pd.DataFrame(data)"
      ],
      "execution_count": 59,
      "outputs": []
    },
    {
      "cell_type": "code",
      "metadata": {
        "colab": {
          "base_uri": "https://localhost:8080/",
          "height": 166
        },
        "id": "U2T8bWU7VZsg",
        "outputId": "766b5e3f-3480-4645-a5d0-db776aa9cd3f"
      },
      "source": [
        "df.head()"
      ],
      "execution_count": 60,
      "outputs": [
        {
          "output_type": "execute_result",
          "data": {
            "text/html": [
              "<div>\n",
              "<style scoped>\n",
              "    .dataframe tbody tr th:only-of-type {\n",
              "        vertical-align: middle;\n",
              "    }\n",
              "\n",
              "    .dataframe tbody tr th {\n",
              "        vertical-align: top;\n",
              "    }\n",
              "\n",
              "    .dataframe thead th {\n",
              "        text-align: right;\n",
              "    }\n",
              "</style>\n",
              "<table border=\"1\" class=\"dataframe\">\n",
              "  <thead>\n",
              "    <tr style=\"text-align: right;\">\n",
              "      <th></th>\n",
              "      <th>ModelType</th>\n",
              "      <th>Time in seconds</th>\n",
              "      <th>Accuracy Score</th>\n",
              "    </tr>\n",
              "  </thead>\n",
              "  <tbody>\n",
              "    <tr>\n",
              "      <th>0</th>\n",
              "      <td>No BatchNormalization</td>\n",
              "      <td>758 s</td>\n",
              "      <td>0.61</td>\n",
              "    </tr>\n",
              "    <tr>\n",
              "      <th>1</th>\n",
              "      <td>Two Dense Layers</td>\n",
              "      <td>903 s</td>\n",
              "      <td>0.64</td>\n",
              "    </tr>\n",
              "    <tr>\n",
              "      <th>2</th>\n",
              "      <td>2 blocks of Conv2D -&gt; BatchNorm2D-&gt;MaxPooling2D</td>\n",
              "      <td>1743 s</td>\n",
              "      <td>0.68</td>\n",
              "    </tr>\n",
              "    <tr>\n",
              "      <th>3</th>\n",
              "      <td>3 blocks of Conv2D -&gt; BatchNorm2D-&gt;MaxPooling2D</td>\n",
              "      <td>2116 s</td>\n",
              "      <td>0.72</td>\n",
              "    </tr>\n",
              "  </tbody>\n",
              "</table>\n",
              "</div>"
            ],
            "text/plain": [
              "                                         ModelType  ... Accuracy Score\n",
              "0                            No BatchNormalization  ...           0.61\n",
              "1                                 Two Dense Layers  ...           0.64\n",
              "2  2 blocks of Conv2D -> BatchNorm2D->MaxPooling2D  ...           0.68\n",
              "3  3 blocks of Conv2D -> BatchNorm2D->MaxPooling2D  ...           0.72\n",
              "\n",
              "[4 rows x 3 columns]"
            ]
          },
          "metadata": {
            "tags": []
          },
          "execution_count": 60
        }
      ]
    },
    {
      "cell_type": "markdown",
      "metadata": {
        "id": "phHNDFgZViDU"
      },
      "source": [
        "\n",
        "> ***The training time increased as we increased the number of layers and blocks. But adding more layers will extract more features for our input data and hence the accuracy increases.***\n",
        "\n"
      ]
    },
    {
      "cell_type": "markdown",
      "metadata": {
        "id": "WY3llNBA0BSJ"
      },
      "source": [
        "# **Saving Best Model**"
      ]
    },
    {
      "cell_type": "code",
      "metadata": {
        "id": "qcl_4byL9lHq",
        "colab": {
          "base_uri": "https://localhost:8080/"
        },
        "outputId": "10c68b12-9d72-4a76-db11-d9dbf66737e5"
      },
      "source": [
        "cnn.save(\"myModel\")"
      ],
      "execution_count": null,
      "outputs": [
        {
          "output_type": "stream",
          "text": [
            "INFO:tensorflow:Assets written to: myModel/assets\n"
          ],
          "name": "stdout"
        }
      ]
    }
  ]
}